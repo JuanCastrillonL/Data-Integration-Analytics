{
  "nbformat": 4,
  "nbformat_minor": 0,
  "metadata": {
    "colab": {
      "provenance": [],
      "authorship_tag": "ABX9TyNXPOcFBKwzWNlgaBsA4uVK",
      "include_colab_link": true
    },
    "kernelspec": {
      "name": "python3",
      "display_name": "Python 3"
    },
    "language_info": {
      "name": "python"
    }
  },
  "cells": [
    {
      "cell_type": "markdown",
      "metadata": {
        "id": "view-in-github",
        "colab_type": "text"
      },
      "source": [
        "<a href=\"https://colab.research.google.com/github/JuanCastrillonL/Data-Integration-Analytics/blob/main/Reto_4.ipynb\" target=\"_parent\"><img src=\"https://colab.research.google.com/assets/colab-badge.svg\" alt=\"Open In Colab\"/></a>"
      ]
    },
    {
      "cell_type": "code",
      "execution_count": null,
      "metadata": {
        "id": "q9w7hrDBrnMb"
      },
      "outputs": [],
      "source": [
        "import pandas as pd\n",
        "import numpy as np\n",
        "import seaborn as sns\n",
        "import matplotlib.pyplot as plt"
      ]
    },
    {
      "cell_type": "code",
      "source": [
        "path = \"/content/sample_data/4. DB_Fintechs (USD).xlsx\"\n",
        "\n",
        "df = pd.read_excel(path,sheet_name=0)\n",
        "df.head()\n",
        "\n",
        "list(df.columns)\n",
        "\n",
        "XDB = df[['Edad',  'Ingresos',  'Egresos', 'Monto (EAD)']]#variables de interes\n",
        "XDB.dropna()\n",
        "XDB.head()"
      ],
      "metadata": {
        "colab": {
          "base_uri": "https://localhost:8080/",
          "height": 206
        },
        "id": "zGmgcO2Orx7B",
        "outputId": "73e8a39b-790e-4ca7-ea15-bf64598cbf5b"
      },
      "execution_count": null,
      "outputs": [
        {
          "output_type": "execute_result",
          "data": {
            "text/plain": [
              "   Edad    Ingresos      Egresos  Monto (EAD)\n",
              "0    33   496.87275   550.117556   250.209001\n",
              "1    61   518.90575   240.179333   574.469987\n",
              "2    29  1305.97300   769.749778  1469.739871\n",
              "3    39   194.06275   188.418222    76.842043\n",
              "4    38   883.16350  1059.917333   440.780558"
            ],
            "text/html": [
              "\n",
              "  <div id=\"df-a4d58820-d3fb-4d49-96fe-f6e10d0774e4\" class=\"colab-df-container\">\n",
              "    <div>\n",
              "<style scoped>\n",
              "    .dataframe tbody tr th:only-of-type {\n",
              "        vertical-align: middle;\n",
              "    }\n",
              "\n",
              "    .dataframe tbody tr th {\n",
              "        vertical-align: top;\n",
              "    }\n",
              "\n",
              "    .dataframe thead th {\n",
              "        text-align: right;\n",
              "    }\n",
              "</style>\n",
              "<table border=\"1\" class=\"dataframe\">\n",
              "  <thead>\n",
              "    <tr style=\"text-align: right;\">\n",
              "      <th></th>\n",
              "      <th>Edad</th>\n",
              "      <th>Ingresos</th>\n",
              "      <th>Egresos</th>\n",
              "      <th>Monto (EAD)</th>\n",
              "    </tr>\n",
              "  </thead>\n",
              "  <tbody>\n",
              "    <tr>\n",
              "      <th>0</th>\n",
              "      <td>33</td>\n",
              "      <td>496.87275</td>\n",
              "      <td>550.117556</td>\n",
              "      <td>250.209001</td>\n",
              "    </tr>\n",
              "    <tr>\n",
              "      <th>1</th>\n",
              "      <td>61</td>\n",
              "      <td>518.90575</td>\n",
              "      <td>240.179333</td>\n",
              "      <td>574.469987</td>\n",
              "    </tr>\n",
              "    <tr>\n",
              "      <th>2</th>\n",
              "      <td>29</td>\n",
              "      <td>1305.97300</td>\n",
              "      <td>769.749778</td>\n",
              "      <td>1469.739871</td>\n",
              "    </tr>\n",
              "    <tr>\n",
              "      <th>3</th>\n",
              "      <td>39</td>\n",
              "      <td>194.06275</td>\n",
              "      <td>188.418222</td>\n",
              "      <td>76.842043</td>\n",
              "    </tr>\n",
              "    <tr>\n",
              "      <th>4</th>\n",
              "      <td>38</td>\n",
              "      <td>883.16350</td>\n",
              "      <td>1059.917333</td>\n",
              "      <td>440.780558</td>\n",
              "    </tr>\n",
              "  </tbody>\n",
              "</table>\n",
              "</div>\n",
              "    <div class=\"colab-df-buttons\">\n",
              "\n",
              "  <div class=\"colab-df-container\">\n",
              "    <button class=\"colab-df-convert\" onclick=\"convertToInteractive('df-a4d58820-d3fb-4d49-96fe-f6e10d0774e4')\"\n",
              "            title=\"Convert this dataframe to an interactive table.\"\n",
              "            style=\"display:none;\">\n",
              "\n",
              "  <svg xmlns=\"http://www.w3.org/2000/svg\" height=\"24px\" viewBox=\"0 -960 960 960\">\n",
              "    <path d=\"M120-120v-720h720v720H120Zm60-500h600v-160H180v160Zm220 220h160v-160H400v160Zm0 220h160v-160H400v160ZM180-400h160v-160H180v160Zm440 0h160v-160H620v160ZM180-180h160v-160H180v160Zm440 0h160v-160H620v160Z\"/>\n",
              "  </svg>\n",
              "    </button>\n",
              "\n",
              "  <style>\n",
              "    .colab-df-container {\n",
              "      display:flex;\n",
              "      gap: 12px;\n",
              "    }\n",
              "\n",
              "    .colab-df-convert {\n",
              "      background-color: #E8F0FE;\n",
              "      border: none;\n",
              "      border-radius: 50%;\n",
              "      cursor: pointer;\n",
              "      display: none;\n",
              "      fill: #1967D2;\n",
              "      height: 32px;\n",
              "      padding: 0 0 0 0;\n",
              "      width: 32px;\n",
              "    }\n",
              "\n",
              "    .colab-df-convert:hover {\n",
              "      background-color: #E2EBFA;\n",
              "      box-shadow: 0px 1px 2px rgba(60, 64, 67, 0.3), 0px 1px 3px 1px rgba(60, 64, 67, 0.15);\n",
              "      fill: #174EA6;\n",
              "    }\n",
              "\n",
              "    .colab-df-buttons div {\n",
              "      margin-bottom: 4px;\n",
              "    }\n",
              "\n",
              "    [theme=dark] .colab-df-convert {\n",
              "      background-color: #3B4455;\n",
              "      fill: #D2E3FC;\n",
              "    }\n",
              "\n",
              "    [theme=dark] .colab-df-convert:hover {\n",
              "      background-color: #434B5C;\n",
              "      box-shadow: 0px 1px 3px 1px rgba(0, 0, 0, 0.15);\n",
              "      filter: drop-shadow(0px 1px 2px rgba(0, 0, 0, 0.3));\n",
              "      fill: #FFFFFF;\n",
              "    }\n",
              "  </style>\n",
              "\n",
              "    <script>\n",
              "      const buttonEl =\n",
              "        document.querySelector('#df-a4d58820-d3fb-4d49-96fe-f6e10d0774e4 button.colab-df-convert');\n",
              "      buttonEl.style.display =\n",
              "        google.colab.kernel.accessAllowed ? 'block' : 'none';\n",
              "\n",
              "      async function convertToInteractive(key) {\n",
              "        const element = document.querySelector('#df-a4d58820-d3fb-4d49-96fe-f6e10d0774e4');\n",
              "        const dataTable =\n",
              "          await google.colab.kernel.invokeFunction('convertToInteractive',\n",
              "                                                    [key], {});\n",
              "        if (!dataTable) return;\n",
              "\n",
              "        const docLinkHtml = 'Like what you see? Visit the ' +\n",
              "          '<a target=\"_blank\" href=https://colab.research.google.com/notebooks/data_table.ipynb>data table notebook</a>'\n",
              "          + ' to learn more about interactive tables.';\n",
              "        element.innerHTML = '';\n",
              "        dataTable['output_type'] = 'display_data';\n",
              "        await google.colab.output.renderOutput(dataTable, element);\n",
              "        const docLink = document.createElement('div');\n",
              "        docLink.innerHTML = docLinkHtml;\n",
              "        element.appendChild(docLink);\n",
              "      }\n",
              "    </script>\n",
              "  </div>\n",
              "\n",
              "\n",
              "<div id=\"df-3ae9c75a-bda2-4aa2-9c54-77bad25d9261\">\n",
              "  <button class=\"colab-df-quickchart\" onclick=\"quickchart('df-3ae9c75a-bda2-4aa2-9c54-77bad25d9261')\"\n",
              "            title=\"Suggest charts\"\n",
              "            style=\"display:none;\">\n",
              "\n",
              "<svg xmlns=\"http://www.w3.org/2000/svg\" height=\"24px\"viewBox=\"0 0 24 24\"\n",
              "     width=\"24px\">\n",
              "    <g>\n",
              "        <path d=\"M19 3H5c-1.1 0-2 .9-2 2v14c0 1.1.9 2 2 2h14c1.1 0 2-.9 2-2V5c0-1.1-.9-2-2-2zM9 17H7v-7h2v7zm4 0h-2V7h2v10zm4 0h-2v-4h2v4z\"/>\n",
              "    </g>\n",
              "</svg>\n",
              "  </button>\n",
              "\n",
              "<style>\n",
              "  .colab-df-quickchart {\n",
              "      --bg-color: #E8F0FE;\n",
              "      --fill-color: #1967D2;\n",
              "      --hover-bg-color: #E2EBFA;\n",
              "      --hover-fill-color: #174EA6;\n",
              "      --disabled-fill-color: #AAA;\n",
              "      --disabled-bg-color: #DDD;\n",
              "  }\n",
              "\n",
              "  [theme=dark] .colab-df-quickchart {\n",
              "      --bg-color: #3B4455;\n",
              "      --fill-color: #D2E3FC;\n",
              "      --hover-bg-color: #434B5C;\n",
              "      --hover-fill-color: #FFFFFF;\n",
              "      --disabled-bg-color: #3B4455;\n",
              "      --disabled-fill-color: #666;\n",
              "  }\n",
              "\n",
              "  .colab-df-quickchart {\n",
              "    background-color: var(--bg-color);\n",
              "    border: none;\n",
              "    border-radius: 50%;\n",
              "    cursor: pointer;\n",
              "    display: none;\n",
              "    fill: var(--fill-color);\n",
              "    height: 32px;\n",
              "    padding: 0;\n",
              "    width: 32px;\n",
              "  }\n",
              "\n",
              "  .colab-df-quickchart:hover {\n",
              "    background-color: var(--hover-bg-color);\n",
              "    box-shadow: 0 1px 2px rgba(60, 64, 67, 0.3), 0 1px 3px 1px rgba(60, 64, 67, 0.15);\n",
              "    fill: var(--button-hover-fill-color);\n",
              "  }\n",
              "\n",
              "  .colab-df-quickchart-complete:disabled,\n",
              "  .colab-df-quickchart-complete:disabled:hover {\n",
              "    background-color: var(--disabled-bg-color);\n",
              "    fill: var(--disabled-fill-color);\n",
              "    box-shadow: none;\n",
              "  }\n",
              "\n",
              "  .colab-df-spinner {\n",
              "    border: 2px solid var(--fill-color);\n",
              "    border-color: transparent;\n",
              "    border-bottom-color: var(--fill-color);\n",
              "    animation:\n",
              "      spin 1s steps(1) infinite;\n",
              "  }\n",
              "\n",
              "  @keyframes spin {\n",
              "    0% {\n",
              "      border-color: transparent;\n",
              "      border-bottom-color: var(--fill-color);\n",
              "      border-left-color: var(--fill-color);\n",
              "    }\n",
              "    20% {\n",
              "      border-color: transparent;\n",
              "      border-left-color: var(--fill-color);\n",
              "      border-top-color: var(--fill-color);\n",
              "    }\n",
              "    30% {\n",
              "      border-color: transparent;\n",
              "      border-left-color: var(--fill-color);\n",
              "      border-top-color: var(--fill-color);\n",
              "      border-right-color: var(--fill-color);\n",
              "    }\n",
              "    40% {\n",
              "      border-color: transparent;\n",
              "      border-right-color: var(--fill-color);\n",
              "      border-top-color: var(--fill-color);\n",
              "    }\n",
              "    60% {\n",
              "      border-color: transparent;\n",
              "      border-right-color: var(--fill-color);\n",
              "    }\n",
              "    80% {\n",
              "      border-color: transparent;\n",
              "      border-right-color: var(--fill-color);\n",
              "      border-bottom-color: var(--fill-color);\n",
              "    }\n",
              "    90% {\n",
              "      border-color: transparent;\n",
              "      border-bottom-color: var(--fill-color);\n",
              "    }\n",
              "  }\n",
              "</style>\n",
              "\n",
              "  <script>\n",
              "    async function quickchart(key) {\n",
              "      const quickchartButtonEl =\n",
              "        document.querySelector('#' + key + ' button');\n",
              "      quickchartButtonEl.disabled = true;  // To prevent multiple clicks.\n",
              "      quickchartButtonEl.classList.add('colab-df-spinner');\n",
              "      try {\n",
              "        const charts = await google.colab.kernel.invokeFunction(\n",
              "            'suggestCharts', [key], {});\n",
              "      } catch (error) {\n",
              "        console.error('Error during call to suggestCharts:', error);\n",
              "      }\n",
              "      quickchartButtonEl.classList.remove('colab-df-spinner');\n",
              "      quickchartButtonEl.classList.add('colab-df-quickchart-complete');\n",
              "    }\n",
              "    (() => {\n",
              "      let quickchartButtonEl =\n",
              "        document.querySelector('#df-3ae9c75a-bda2-4aa2-9c54-77bad25d9261 button');\n",
              "      quickchartButtonEl.style.display =\n",
              "        google.colab.kernel.accessAllowed ? 'block' : 'none';\n",
              "    })();\n",
              "  </script>\n",
              "</div>\n",
              "\n",
              "    </div>\n",
              "  </div>\n"
            ],
            "application/vnd.google.colaboratory.intrinsic+json": {
              "type": "dataframe",
              "variable_name": "XDB",
              "summary": "{\n  \"name\": \"XDB\",\n  \"rows\": 1500,\n  \"fields\": [\n    {\n      \"column\": \"Edad\",\n      \"properties\": {\n        \"dtype\": \"number\",\n        \"std\": 12,\n        \"min\": 21,\n        \"max\": 73,\n        \"num_unique_values\": 47,\n        \"samples\": [\n          63,\n          69,\n          73\n        ],\n        \"semantic_type\": \"\",\n        \"description\": \"\"\n      }\n    },\n    {\n      \"column\": \"Ingresos\",\n      \"properties\": {\n        \"dtype\": \"number\",\n        \"std\": 506.83303711589593,\n        \"min\": 1.717,\n        \"max\": 2494.11775,\n        \"num_unique_values\": 1500,\n        \"samples\": [\n          677.59525,\n          1217.23525,\n          429.0105\n        ],\n        \"semantic_type\": \"\",\n        \"description\": \"\"\n      }\n    },\n    {\n      \"column\": \"Egresos\",\n      \"properties\": {\n        \"dtype\": \"number\",\n        \"std\": 503.742446206688,\n        \"min\": 1.3402222222222222,\n        \"max\": 3141.7393333333334,\n        \"num_unique_values\": 1500,\n        \"samples\": [\n          687.1831111111111,\n          714.5204444444445,\n          565.0506666666666\n        ],\n        \"semantic_type\": \"\",\n        \"description\": \"\"\n      }\n    },\n    {\n      \"column\": \"Monto (EAD)\",\n      \"properties\": {\n        \"dtype\": \"number\",\n        \"std\": 445.8016299948316,\n        \"min\": 0.897111494022675,\n        \"max\": 3515.2645039068475,\n        \"num_unique_values\": 1500,\n        \"samples\": [\n          469.1320991276125,\n          954.5489825555119,\n          272.8404618590197\n        ],\n        \"semantic_type\": \"\",\n        \"description\": \"\"\n      }\n    }\n  ]\n}"
            }
          },
          "metadata": {},
          "execution_count": 4
        }
      ]
    },
    {
      "cell_type": "code",
      "source": [
        "XDBM  = np.max(XDB, axis=0) #maximos\n",
        "XDBM\n",
        "\n",
        "XDBm = np.min(XDB, axis=0) #minimos\n",
        "XDBm\n",
        "\n",
        "np.random.seed(42)\n",
        "\n",
        "#semillas (serian 5 en este caso) ya que el ejercicio nos pide crear 5 clusters\n",
        "XC = np.zeros((5,4))\n",
        "\n",
        "for i in range (5): #numero de montones de datos\n",
        "  for j in range (4): #cada monton va a tener 5 variables\n",
        "    XC[i,j] = np.random.uniform(XDBm[j],XDBM[j])\n",
        "\n",
        "XDB = np.array(XDB)\n",
        "XCd = np.zeros((5,4))\n",
        "ND = np.zeros((5,1))\n",
        "\n",
        "\n",
        "#clasificacion de los datos por monton\n",
        "\n",
        "for k in range(len(XDB)):\n",
        "  d = np.sum(np.abs(XC[:,:]-XDB[k,:]), axis=1) # distancia de un registro a un cluster\n",
        "  fila = np.argmin(d) # numero de cluster al que pertenece un dato\n",
        "  XCd[fila,]= XCd[fila,]+XDB[k,:] #sumo la info de las variables a los clusters\n",
        "  ND[fila,]=ND[fila,]+1 #cuanto el numero de datos que quedaron por cada cluster\n",
        "\n",
        "print(\"el numero de datos por cluster es:\\n\", ND )\n",
        "\n"
      ],
      "metadata": {
        "colab": {
          "base_uri": "https://localhost:8080/"
        },
        "id": "Ij_lkNuHupTg",
        "outputId": "8ab01f23-d8b5-4864-9100-8bae06637dd8"
      },
      "execution_count": null,
      "outputs": [
        {
          "output_type": "stream",
          "name": "stdout",
          "text": [
            "el numero de datos por cluster es:\n",
            " [[  38.]\n",
            " [   0.]\n",
            " [   7.]\n",
            " [1112.]\n",
            " [ 343.]]\n"
          ]
        }
      ]
    },
    {
      "cell_type": "markdown",
      "source": [
        "Como se esta generando un cluster vacio, necesito asignarle a ese cluster un valor de centro y esta asignacion se hace con un punto de XDB, para poder realizar el proceso de integracion y el cluster ahora tiene al menos un dato"
      ],
      "metadata": {
        "id": "zPy4Y7AiFdkZ"
      }
    },
    {
      "cell_type": "code",
      "source": [
        "clusters_vacios = np.where(ND == 0)[0]  # Índices de clusters vacíos\n",
        "\n",
        "if len(clusters_vacios) > 0:\n",
        "    print(f\"Se encontraron {len(clusters_vacios)} clusters vacíos, reasignando centros...\")\n",
        "    for i in clusters_vacios:\n",
        "        nuevo_centro = XDB[np.random.randint(0, len(XDB))]  # Escoge un punto aleatorio como nuevo centro\n",
        "        XC[i, :] = nuevo_centro\n",
        "        print(f\"Nuevo centro asignado al cluster {i}: {nuevo_centro}\")\n",
        "\n",
        "\n",
        "\n",
        "ND[ND == 0] = 1  # Evita que haya divisiones por cero artificialmente\n",
        "XCd = XCd / ND\n",
        "\n",
        "dfxco= pd.DataFrame((XCd.astype(float)))\n",
        "dfxco.columns=['Edad', 'Ingresos', 'Egresos', 'Monto (EAD)']\n",
        "dfxco.head(5)\n",
        "\n",
        "print(\"Número de datos por cluster inicial:\", ND.astype(int).flatten())\n"
      ],
      "metadata": {
        "colab": {
          "base_uri": "https://localhost:8080/"
        },
        "id": "6P6MRqcuFOq4",
        "outputId": "77bcb299-6866-4d88-a13b-28a99b8b6843"
      },
      "execution_count": null,
      "outputs": [
        {
          "output_type": "stream",
          "name": "stdout",
          "text": [
            "Número de datos por cluster inicial: [  38    1    7 1112  343]\n"
          ]
        }
      ]
    },
    {
      "cell_type": "markdown",
      "source": [
        "Integracion de datos de la primera fintch externa"
      ],
      "metadata": {
        "id": "heD8QSr-x-In"
      }
    },
    {
      "cell_type": "code",
      "source": [
        "dfe1 = pd.read_excel(path,sheet_name=1) #datos correspondientes a la primera fintech externa\n",
        "dfe1.head()\n",
        "\n",
        "XDBe1 = np.array(dfe1[['Edad',  'Ingresos',  'Egresos', 'Monto (EAD)']].dropna())#variables de interes\n",
        "\n",
        "Xco1 = np.copy(XCd) #clusters estaticos/iniciales\n",
        "NDe1 = np.zeros((5,1)) #numero de datos por cluster\n",
        "\n",
        "for k in range(len(XDBe1)):\n",
        "  de = np.sqrt(np.sum((Xco1[:,:]-XDBe1[k,:])**2, axis=1)) #voy sumando la informacion de las varuables a los clusters\n",
        "  fila = np.argmin(de)\n",
        "  Xco1[fila,]= (Xco1[fila,]+XDBe1[k,:])/2 #sumo la info de las variables a los clusters\n",
        "\n",
        "  NDe1[fila,]=NDe1[fila,]+1\n",
        "\n",
        "print(\"el numero de datos integrados por cluster desde la primera fintech externa es:\\n\", NDe1 )"
      ],
      "metadata": {
        "colab": {
          "base_uri": "https://localhost:8080/"
        },
        "id": "YE3yl_aTw2kZ",
        "outputId": "98a92e65-2432-4879-911a-22fa5ab548a6"
      },
      "execution_count": null,
      "outputs": [
        {
          "output_type": "stream",
          "name": "stdout",
          "text": [
            "el numero de datos integrados por cluster desde la primera fintech externa es:\n",
            " [[ 93.]\n",
            " [479.]\n",
            " [163.]\n",
            " [503.]\n",
            " [263.]]\n"
          ]
        }
      ]
    },
    {
      "cell_type": "markdown",
      "source": [
        "Integracion de los datos desde la segunda fintech externa"
      ],
      "metadata": {
        "id": "SuUUdXvPyTMR"
      }
    },
    {
      "cell_type": "code",
      "source": [
        "dfe2 = pd.read_excel(path,sheet_name=2) #datos correspondientes a la segunda fintech externa\n",
        "dfe2.head()\n",
        "\n",
        "XDBe2 = np.array(dfe2[['Edad',  'Ingresos',  'Egresos', 'Monto (EAD)']].dropna())#variables de interes\n",
        "\n",
        "Xco2 = np.copy(XCd) #clusters estaticos/iniciales\n",
        "NDe2 = np.zeros((5,1)) #numero de datos por cluster\n",
        "\n",
        "for k in range(len(XDBe2)):\n",
        "  de = np.sqrt(np.sum((Xco2[:,:]-XDBe2[k,:])**2, axis=1)) #voy sumando la informacion de las varuables a los clusters\n",
        "  fila = np.argmin(de)\n",
        "  Xco2[fila,]= (Xco1[fila,]+XDBe2[k,:])/2 #sumo la info de las variables a los clusters\n",
        "\n",
        "  NDe2[fila,]=NDe2[fila,]+1\n",
        "\n",
        "\n",
        "print(\"el numero de datos integrados por cluster desde la primera fintech externa es:\\n\", NDe2 )"
      ],
      "metadata": {
        "colab": {
          "base_uri": "https://localhost:8080/"
        },
        "id": "fmBVSdNNybLk",
        "outputId": "3b84237a-b9d9-454c-9370-f3585e5abf22"
      },
      "execution_count": null,
      "outputs": [
        {
          "output_type": "stream",
          "name": "stdout",
          "text": [
            "el numero de datos integrados por cluster desde la primera fintech externa es:\n",
            " [[ 92.]\n",
            " [144.]\n",
            " [ 17.]\n",
            " [726.]\n",
            " [521.]]\n"
          ]
        }
      ]
    },
    {
      "cell_type": "markdown",
      "source": [
        "Integracion de datos desde la tercera fintech observada"
      ],
      "metadata": {
        "id": "mm0H1yeH0S2z"
      }
    },
    {
      "cell_type": "code",
      "source": [
        "dfe3 = pd.read_excel(path, sheet_name=3)  # Cambiado a dfe3 y sheet_name=2\n",
        "dfe3.head()\n",
        "\n",
        "XDBe3 = np.array(dfe3[['Edad', 'Ingresos', 'Egresos', 'Monto (EAD)']].dropna())  # Cambiado a XDBe3\n",
        "Xco3 = np.copy(XCd)  # Clusters estáticos/iniciales, cambiado a Xco3\n",
        "NDe3 = np.zeros((5, 1))  # Número de datos por cluster, cambiado a NDe3\n",
        "\n",
        "for k in range(len(XDBe3)):\n",
        "    de = np.sqrt(np.sum((Xco3[:, :] - XDBe3[k, :]) ** 2, axis=1))\n",
        "    fila = np.argmin(de)\n",
        "    Xco3[fila, :] = (Xco3[fila, :] + XDBe3[k, :]) / 2  # Actualizar centros de cluster\n",
        "\n",
        "    NDe3[fila, 0] = NDe3[fila, 0] + 1\n",
        "\n",
        "print(\"El número de datos integrados por cluster desde la segunda fintech externa es:\\n\", NDe3)"
      ],
      "metadata": {
        "colab": {
          "base_uri": "https://localhost:8080/"
        },
        "id": "ketY60S_zyEl",
        "outputId": "13425ea6-a67d-47f8-9201-c9b8803cf03c"
      },
      "execution_count": null,
      "outputs": [
        {
          "output_type": "stream",
          "name": "stdout",
          "text": [
            "El número de datos integrados por cluster desde la segunda fintech externa es:\n",
            " [[115.]\n",
            " [500.]\n",
            " [268.]\n",
            " [281.]\n",
            " [178.]]\n"
          ]
        }
      ]
    },
    {
      "cell_type": "code",
      "source": [
        "# Total de puntos de datos después de cada integración\n",
        "total_datos_despues_integracion1 = np.sum(ND) + np.sum(NDe1)\n",
        "print(f\"Total de puntos de datos después de la primera integración: {total_datos_despues_integracion1}\")\n",
        "print(f\"Puntos de datos por clúster después de la primera integración:\\n{ND + NDe1}\")\n",
        "\n",
        "total_datos_despues_integracion2 = total_datos_despues_integracion1 + np.sum(NDe2)\n",
        "print(f\"Total de puntos de datos después de la segunda integración: {total_datos_despues_integracion2}\")\n",
        "print(f\"Puntos de datos por clúster después de la segunda integración:\\n{ND + NDe1 + NDe2}\")\n",
        "\n",
        "total_datos_despues_integracion3 = total_datos_despues_integracion2 + np.sum(NDe3)\n",
        "print(f\"Total de puntos de datos después de la tercera integración: {total_datos_despues_integracion3}\")\n",
        "print(f\"Puntos de datos por clúster después de la tercera integración:\\n{ND + NDe1 + NDe2 + NDe3}\")\n",
        "\n",
        "\n"
      ],
      "metadata": {
        "colab": {
          "base_uri": "https://localhost:8080/"
        },
        "id": "4OPQmvah0bK9",
        "outputId": "55593862-6a4f-4249-b266-f1e7401500c8"
      },
      "execution_count": null,
      "outputs": [
        {
          "output_type": "stream",
          "name": "stdout",
          "text": [
            "Total de puntos de datos después de la primera integración: 3002.0\n",
            "Puntos de datos por clúster después de la primera integración:\n",
            "[[ 131.]\n",
            " [ 480.]\n",
            " [ 170.]\n",
            " [1615.]\n",
            " [ 606.]]\n",
            "Total de puntos de datos después de la segunda integración: 4502.0\n",
            "Puntos de datos por clúster después de la segunda integración:\n",
            "[[ 223.]\n",
            " [ 624.]\n",
            " [ 187.]\n",
            " [2341.]\n",
            " [1127.]]\n",
            "Total de puntos de datos después de la tercera integración: 5844.0\n",
            "Puntos de datos por clúster después de la tercera integración:\n",
            "[[ 338.]\n",
            " [1124.]\n",
            " [ 455.]\n",
            " [2622.]\n",
            " [1305.]]\n"
          ]
        }
      ]
    }
  ]
}